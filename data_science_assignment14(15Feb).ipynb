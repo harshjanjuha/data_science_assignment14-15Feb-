{
 "cells": [
  {
   "cell_type": "markdown",
   "id": "9905f52c",
   "metadata": {},
   "source": [
    "# Assignment 14"
   ]
  },
  {
   "cell_type": "markdown",
   "id": "43138c64",
   "metadata": {},
   "source": [
    "Q1. What is multiprocessing in python? Why is it useful?\n",
    "\n",
    "Ans.Multiprocessing in Python refers to the ability of the language to run multiple processes or tasks simultaneously on a computer with multiple CPUs or cores. It allows you to take advantage of the parallel processing power of modern hardware, enabling you to execute multiple tasks simultaneously.\n",
    "\n",
    "In Python, the multiprocessing module provides support for multiprocessing. With this module, you can create new processes, communicate between them, and synchronize their execution.\n",
    "\n",
    "Multiprocessing is useful in many scenarios, including:\n",
    "\n",
    "CPU-bound tasks: When you have a task that is computationally intensive and takes a lot of CPU time, multiprocessing can help you complete the task faster by distributing the workload across multiple processes.\n",
    "\n",
    "IO-bound tasks: When you have a task that involves a lot of input/output operations, such as reading from or writing to a file or network, multiprocessing can help you speed up the task by allowing multiple processes to perform IO operations concurrently.\n",
    "\n",
    "Asynchronous processing: When you need to perform multiple tasks in parallel and have them communicate with each other, multiprocessing can be a useful tool to achieve this.\n",
    "\n",
    "Overall, multiprocessing in Python provides a way to scale up the performance of your applications by making better use of modern hardware."
   ]
  },
  {
   "cell_type": "markdown",
   "id": "34891f5f",
   "metadata": {},
   "source": [
    "Q2. What are the differences between multiprocessing and multithreading?\n",
    "\n",
    "Ans. Both multiprocessing and multithreading are techniques used to achieve parallelism in programming. However, they differ in several ways, including:\n",
    "\n",
    "Separate memory space: In multiprocessing, each process runs in a separate memory space, whereas in multithreading, all threads share the same memory space. This means that multiprocessing is more suited for applications where data needs to be isolated between processes, while multithreading is more suitable for applications where data sharing is necessary.\n",
    "\n",
    "Multiple CPUs: Multiprocessing is designed to take advantage of multiple CPUs or cores, while multithreading may not necessarily use multiple CPUs, as it depends on the operating system's ability to allocate CPU time to multiple threads.\n",
    "\n",
    "Interprocess communication: In multiprocessing, communication between processes can be more complex, as it requires explicit communication mechanisms like pipes or queues. In multithreading, communication between threads is more straightforward as they share the same memory space.\n",
    "\n",
    "Concurrency: Multiprocessing provides true concurrency, meaning that multiple processes can execute simultaneously on different CPUs. In contrast, multithreading provides concurrency by time-slicing, where the operating system switches between threads to simulate concurrency.\n",
    "\n",
    "Overall, multiprocessing is more suitable for CPU-bound tasks that can benefit from multiple CPUs, while multithreading is more suitable for IO-bound tasks where tasks need to be performed concurrently, but the benefits of multiple CPUs may be limited."
   ]
  },
  {
   "cell_type": "markdown",
   "id": "2ae8b4df",
   "metadata": {},
   "source": [
    "Q3. Write a python code to create a process using the multiprocessing module.\n",
    "\n",
    "\n",
    "Ans. "
   ]
  },
  {
   "cell_type": "code",
   "execution_count": 1,
   "id": "ba97a55f",
   "metadata": {},
   "outputs": [
    {
     "name": "stdout",
     "output_type": "stream",
     "text": [
      "Process has finished\n"
     ]
    }
   ],
   "source": [
    "import multiprocessing\n",
    "\n",
    "def worker():\n",
    "    \"\"\"This is the function that will be executed in a separate process.\"\"\"\n",
    "    print(\"Worker process started\")\n",
    "    # Do some work here\n",
    "    print(\"Worker process finished\")\n",
    "\n",
    "if __name__ == '__main__':\n",
    "    # Create a new process\n",
    "    p = multiprocessing.Process(target=worker)\n",
    "\n",
    "    # Start the process\n",
    "    p.start()\n",
    "\n",
    "    # Wait for the process to finish\n",
    "    p.join()\n",
    "\n",
    "    # Print a message indicating that the process has finished\n",
    "    print(\"Process has finished\")\n"
   ]
  },
  {
   "cell_type": "markdown",
   "id": "1c75a18b",
   "metadata": {},
   "source": [
    "Q4. What is a multiprocessing pool in python? Why is it used?\n",
    "\n",
    "Ans. A multiprocessing pool in Python is a way to create a group of worker processes that can execute a given function in parallel. It allows you to distribute a workload across multiple processes, making it possible to perform multiple tasks simultaneously.\n",
    "\n",
    "The multiprocessing module in Python provides a Pool class that can be used to create a pool of worker processes. You can specify the number of worker processes to create, and then submit tasks to the pool. The pool will then assign the tasks to the available worker processes, executing them in parallel.\n",
    "\n",
    "The Pool class provides several methods for submitting tasks to the pool, including:\n",
    "\n",
    "apply: Executes a function in a worker process and blocks until the result is returned.\n",
    "map: Applies a function to an iterable of inputs and returns the results as a list.\n",
    "imap: Applies a function to an iterable of inputs and returns an iterator over the results.\n",
    "starmap: Applies a function to an iterable of argument tuples and returns the results as a list.\n",
    "\n",
    "Multiprocessing pool is used in scenarios where you have a large amount of data to process, and you want to distribute the workload across multiple processes to make it more efficient. It is particularly useful for CPU-bound tasks that can benefit from parallel execution, such as numerical computations and machine learning. By using a pool of worker processes, you can take advantage of the parallel processing power of modern hardware, allowing you to complete the task faster.\n"
   ]
  },
  {
   "cell_type": "markdown",
   "id": "f573ccc6",
   "metadata": {},
   "source": [
    "Q5. How can we create a pool of worker processes in python using the multiprocessing module?\n",
    "\n",
    "Ans. To create a pool of worker processes in Python using the multiprocessing module, you can use the Pool class. Here's an example code snippet that demonstrates how to create a pool with 4 worker processes:"
   ]
  },
  {
   "cell_type": "code",
   "execution_count": null,
   "id": "99fa2106",
   "metadata": {},
   "outputs": [
    {
     "name": "stdout",
     "output_type": "stream",
     "text": [
      "Data to process: [1, 2, 3, 4, 5]\n"
     ]
    }
   ],
   "source": [
    "import multiprocessing\n",
    "\n",
    "def worker(data):\n",
    "    \"\"\"This is the function that will be executed by each worker process.\"\"\"\n",
    "    result = data * 2\n",
    "    return result\n",
    "\n",
    "if __name__ == '__main__':\n",
    "    # Create a pool with 4 worker processes\n",
    "    with multiprocessing.Pool(processes=4) as pool:\n",
    "        # Create a list of data to process\n",
    "        data_list = [1, 2, 3, 4, 5]\n",
    "\n",
    "        print(\"Data to process:\", data_list)\n",
    "\n",
    "        # Submit the data to the pool of worker processes\n",
    "        results = pool.map(worker, data_list)\n",
    "\n",
    "        # Print the results\n",
    "        print(\"Results:\", results)\n",
    "\n"
   ]
  },
  {
   "cell_type": "markdown",
   "id": "4acb18d9",
   "metadata": {},
   "source": [
    "Q6. Write a python program to create 4 processes, each process should print a different number using the\n",
    "multiprocessing module in python."
   ]
  },
  {
   "cell_type": "code",
   "execution_count": 3,
   "id": "30686d14",
   "metadata": {},
   "outputs": [],
   "source": [
    "import multiprocessing\n",
    "\n",
    "def print_number(num):\n",
    "    \"\"\"This is the function that will be executed by each process.\"\"\"\n",
    "    print(num, flush=True)\n",
    "\n",
    "if __name__ == '__main__':\n",
    "    # Create a list of numbers to print\n",
    "    numbers = [1, 2, 3, 4]\n",
    "\n",
    "    # Create a list of processes, with each process calling the print_number function\n",
    "    processes = [multiprocessing.Process(target=print_number, args=(num,)) for num in numbers]\n",
    "\n",
    "    # Start each process\n",
    "    for process in processes:\n",
    "        process.start()\n",
    "\n",
    "    # Wait for each process to finish\n",
    "    for process in processes:\n",
    "        process.join()\n"
   ]
  },
  {
   "cell_type": "code",
   "execution_count": null,
   "id": "46b2f0fc",
   "metadata": {},
   "outputs": [],
   "source": []
  }
 ],
 "metadata": {
  "kernelspec": {
   "display_name": "Python 3 (ipykernel)",
   "language": "python",
   "name": "python3"
  },
  "language_info": {
   "codemirror_mode": {
    "name": "ipython",
    "version": 3
   },
   "file_extension": ".py",
   "mimetype": "text/x-python",
   "name": "python",
   "nbconvert_exporter": "python",
   "pygments_lexer": "ipython3",
   "version": "3.9.12"
  }
 },
 "nbformat": 4,
 "nbformat_minor": 5
}
